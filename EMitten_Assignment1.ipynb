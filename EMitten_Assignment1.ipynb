{
 "cells": [
  {
   "cell_type": "markdown",
   "id": "2bf638a3",
   "metadata": {},
   "source": [
    "3.1: 3600 seconds in an hour\n",
    "3.3: 86400 seconds in a day\n",
    "3.6: Both values were correct and the same"
   ]
  },
  {
   "cell_type": "code",
   "execution_count": 2,
   "id": "c924bcfe",
   "metadata": {},
   "outputs": [
    {
     "name": "stdout",
     "output_type": "stream",
     "text": [
      "24.0\n",
      "24\n"
     ]
    }
   ],
   "source": [
    "seconds_per_hour = (60 * 60)\n",
    "\n",
    "seconds_per_day = (seconds_per_hour * 24)\n",
    "\n",
    "print(seconds_per_day / seconds_per_hour)\n",
    "print(seconds_per_day // seconds_per_hour)"
   ]
  }
 ],
 "metadata": {
  "kernelspec": {
   "display_name": "Python 3 (ipykernel)",
   "language": "python",
   "name": "python3"
  },
  "language_info": {
   "codemirror_mode": {
    "name": "ipython",
    "version": 3
   },
   "file_extension": ".py",
   "mimetype": "text/x-python",
   "name": "python",
   "nbconvert_exporter": "python",
   "pygments_lexer": "ipython3",
   "version": "3.9.13"
  }
 },
 "nbformat": 4,
 "nbformat_minor": 5
}
